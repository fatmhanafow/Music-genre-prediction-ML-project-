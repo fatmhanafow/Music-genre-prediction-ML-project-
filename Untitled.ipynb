{
 "cells": [
  {
   "cell_type": "code",
   "execution_count": 24,
   "id": "157baee4-8d96-4c49-b671-c541dd072c39",
   "metadata": {},
   "outputs": [
    {
     "name": "stdout",
     "output_type": "stream",
     "text": [
      "Model Accuracy: 50.00%\n",
      "Cross-Validation Accuracy: 61.11%\n",
      "Predicted Genre: Dance\n"
     ]
    }
   ],
   "source": [
    "import pandas as pd\n",
    "import joblib\n",
    "from sklearn.tree import DecisionTreeClassifier\n",
    "from sklearn.model_selection import train_test_split, cross_val_score\n",
    "from sklearn.metrics import accuracy_score\n",
    "\n",
    "# Step 1: Load the dataset\n",
    "music_data = pd.read_csv(\"music.csv\")\n",
    "\n",
    "# Step 2: Prepare input (X) and output (Y)\n",
    "X = music_data.drop(columns=[\"genre\"])  # Features: Age and Gender\n",
    "Y = music_data[\"genre\"]  # Target: Music Genre\n",
    "\n",
    "# Step 3: Split data into training and testing sets\n",
    "X_train, X_test, Y_train, Y_test = train_test_split(X, Y, test_size=0.2, random_state=42)\n",
    "\n",
    "# Step 4: Create and train the model\n",
    "model = DecisionTreeClassifier(max_depth=3, min_samples_split=5)\n",
    "model.fit(X_train, Y_train)\n",
    "\n",
    "# Step 5: Save the trained model\n",
    "joblib.dump(model, \"music_recommender.joblib\")\n",
    "\n",
    "# Step 6: Evaluate the model\n",
    "predictions = model.predict(X_test)\n",
    "predictions\n",
    "accuracy = accuracy_score(Y_test, predictions)\n",
    "print(f\"Model Accuracy: {accuracy * 100:.2f}%\")\n",
    "\n",
    "# Step 7: Perform cross-validation\n",
    "scores = cross_val_score(model, X, Y, cv=3)\n",
    "print(f\"Cross-Validation Accuracy: {scores.mean() * 100:.2f}%\")\n",
    "\n",
    "# Step 8: Load the trained model\n",
    "loaded_model = joblib.load(\"music_recommender.joblib\")\n",
    "\n",
    "# Step 9: Predict music preference for a new user\n",
    "user_input = pd.DataFrame([[21, 1]], columns= X.columns)  # Age 21, Male\n",
    "new_prediction = loaded_model.predict(user_input)\n",
    "print(f\"Predicted Genre: {new_prediction[0]}\")\n"
   ]
  },
  {
   "cell_type": "code",
   "execution_count": null,
   "id": "d56f5143-9e64-42db-adc4-676983bd479a",
   "metadata": {},
   "outputs": [],
   "source": []
  }
 ],
 "metadata": {
  "kernelspec": {
   "display_name": "Python 3 (ipykernel)",
   "language": "python",
   "name": "python3"
  },
  "language_info": {
   "codemirror_mode": {
    "name": "ipython",
    "version": 3
   },
   "file_extension": ".py",
   "mimetype": "text/x-python",
   "name": "python",
   "nbconvert_exporter": "python",
   "pygments_lexer": "ipython3",
   "version": "3.12.3"
  }
 },
 "nbformat": 4,
 "nbformat_minor": 5
}
